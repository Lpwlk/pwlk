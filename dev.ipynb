{
 "cells": [
  {
   "cell_type": "code",
   "execution_count": 1,
   "metadata": {},
   "outputs": [],
   "source": [
    "from rich.table import Table\n",
    "from rich import print, inspect\n",
    "import argparse\n",
    "\n",
    "def GetArgs(get_objects: bool = False, argtable: bool = True):\n",
    "\n",
    "    # ? Edit this sub-routine as an arg type to parse multiple values at once using csv syntax\n",
    "    # def intlist(arg): return list(map(int, arg.split(',')))\n",
    "    \n",
    "    parser = argparse.ArgumentParser(\n",
    "        formatter_class = argparse.RawDescriptionHelpFormatter,\n",
    "        epilog = 'Author : Pawlicki Loïc\\n' + '─'*30 + '\\n'\n",
    "    )\n",
    "    \n",
    "    \n",
    "    parser.add_argument('-flag', '--lflag_attr', default = 0,   type = int, metavar = '', action= 'store',  help = 'help_text')\n",
    "    \n",
    "    args = parser.parse_args()\n",
    "    \n",
    "\n",
    "    if argtable: \n",
    "        print(argtable)\n",
    "        \n",
    "    if get_objects:\n",
    "        return args, argtable, parser\n",
    "    else: \n",
    "        return args\n",
    "    \n",
    "def GetArgsTable(args: None, styles: list[str] = ['white','italic','bold','blue']) -> Table:\n",
    "    \n",
    "    argtable = Table(title = 'Parsed arguments ref. table', title_justify = 'left', title_style = 'italic blue', padding = (0,2))\n",
    "    argtable.add_column(header='Argument', style='italic', justify='center')\n",
    "    argtable.add_column(header = 'Flag',  style = 'bold', justify='center')\n",
    "    argtable.add_column(header='Default value', style='yellow', justify='left')\n",
    "    argtable.add_column(header = 'Dtype', style = 'blue', justify='center')\n",
    "    \n",
    "    for arg in vars(args): \n",
    "        argtable.add_row(f'--{arg}', f'-{arg[:1]}', f'{getattr(args, arg)}', f'{getattr(args, arg).__class__.__name__}')\n",
    "\n",
    "args, argtable, parser = GetArgs(get_objects=True)\n",
    "args.print_help()\n",
    "\n",
    "from rich.table import Table\n",
    "\n",
    "def GetArgs(get_objects: bool = False, argtable: bool = True):\n",
    "    import argparse\n",
    "\n",
    "    '''GetArgs _summary_\n",
    "\n",
    "    Args:\n",
    "        get_objects (bool, optional): _description_. Defaults to False.\n",
    "        argtable (bool, optional): _description_. Defaults to True.\n",
    "\n",
    "    Returns:\n",
    "        _type_: _description_\n",
    "    '''\n",
    "    # ? Edit this sub-routine as an arg type to parse multiple values at once using csv syntax\n",
    "    # def intlist(arg): return list(map(int, arg.split(',')))\n",
    "    \n",
    "    parser = argparse.ArgumentParser(\n",
    "        formatter_class = argparse.RawDescriptionHelpFormatter,\n",
    "        epilog = 'Author : Pawlicki Loïc\\n' + '─'*30 + '\\n'\n",
    "    )\n",
    "    \n",
    "    parser.add_argument('-flag', '--lflag_attr', default = 0,   type = int, metavar = '', action= 'store',  help = 'help_text')\n",
    "    args = parser.parse_args()\n",
    "    argtable = Table(title = 'Parsed arguments ref. table', title_justify = 'left', padding = (0,2))\n",
    "    argtable.add_column(header = 'Argument', style = 'italic', justify='center')\n",
    "    argtable.add_column(header = 'Flag', style = 'bold', justify='center')\n",
    "    argtable.add_column(header = 'Default value', style = 'yellow', justify='left')\n",
    "    argtable.add_column(header = 'Dtype', style = 'blue', justify='center')\n",
    "    for arg in vars(args): argtable.add_row(f'--{arg}', f'-{arg[:1]}', f'{getattr(args, arg)}', f'{getattr(args, arg).__class__.__name__}')\n",
    "    print(argtable)\n",
    "    if get_objects:\n",
    "        return args, argtable, parser\n",
    "    else: \n",
    "        return args\n",
    "\n",
    "if __name__ == '__main__':\n",
    "    \n",
    "    args, argtable, parser = GetArgs()\n",
    "    args.print_help()"
   ]
  },
  {
   "cell_type": "code",
   "execution_count": 2,
   "metadata": {},
   "outputs": [
    {
     "name": "stderr",
     "output_type": "stream",
     "text": [
      "usage: ipykernel_launcher.py [-h] [-flag]\n",
      "ipykernel_launcher.py: error: unrecognized arguments: --f=/Users/loicpwlk/Library/Jupyter/runtime/kernel-v2-48075QJKomODv92JP.json\n"
     ]
    },
    {
     "ename": "SystemExit",
     "evalue": "2",
     "output_type": "error",
     "traceback": [
      "An exception has occurred, use %tb to see the full traceback.\n",
      "\u001b[0;31mSystemExit\u001b[0m\u001b[0;31m:\u001b[0m 2\n"
     ]
    },
    {
     "name": "stderr",
     "output_type": "stream",
     "text": [
      "/Users/loicpwlk/Library/Python/3.12/lib/python/site-packages/IPython/core/interactiveshell.py:3561: UserWarning: To exit: use 'exit', 'quit', or Ctrl-D.\n",
      "  warn(\"To exit: use 'exit', 'quit', or Ctrl-D.\", stacklevel=1)\n"
     ]
    }
   ],
   "source": []
  }
 ],
 "metadata": {
  "kernelspec": {
   "display_name": "Python 3",
   "language": "python",
   "name": "python3"
  },
  "language_info": {
   "codemirror_mode": {
    "name": "ipython",
    "version": 3
   },
   "file_extension": ".py",
   "mimetype": "text/x-python",
   "name": "python",
   "nbconvert_exporter": "python",
   "pygments_lexer": "ipython3",
   "version": "3.12.1"
  }
 },
 "nbformat": 4,
 "nbformat_minor": 2
}
